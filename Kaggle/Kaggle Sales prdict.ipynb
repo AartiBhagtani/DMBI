{
 "cells": [
  {
   "cell_type": "markdown",
   "metadata": {},
   "source": [
    "# Regression to predict House sales prices"
   ]
  },
  {
   "cell_type": "code",
   "execution_count": 1,
   "metadata": {},
   "outputs": [
    {
     "name": "stderr",
     "output_type": "stream",
     "text": [
      "c:\\python27\\lib\\site-packages\\sklearn\\cross_validation.py:41: DeprecationWarning: This module was deprecated in version 0.18 in favor of the model_selection module into which all the refactored classes and functions are moved. Also note that the interface of the new CV iterators are different from that of this module. This module will be removed in 0.20.\n",
      "  \"This module will be removed in 0.20.\", DeprecationWarning)\n"
     ]
    }
   ],
   "source": [
    "import numpy as np\n",
    "import pandas as pd\n",
    "import random\n",
    "import array\n",
    "import string\n",
    "\n",
    "#for gradient boost\n",
    "\n",
    "from sklearn.cross_validation import train_test_split\n",
    "from sklearn import ensemble \n",
    "from sklearn.ensemble import GradientBoostingRegressor\n",
    "\n",
    "# multiple linear reg\n",
    "from sklearn.linear_model import LinearRegression\n",
    "\n",
    "# rf\n",
    "from sklearn.ensemble import RandomForestRegressor\n",
    "from sklearn.metrics import mean_absolute_error\n",
    "from sklearn.metrics import accuracy_score"
   ]
  },
  {
   "cell_type": "code",
   "execution_count": 2,
   "metadata": {},
   "outputs": [],
   "source": [
    "df = pd.read_csv(\"train.csv\")"
   ]
  },
  {
   "cell_type": "markdown",
   "metadata": {},
   "source": [
    "## Selecting independent variables"
   ]
  },
  {
   "cell_type": "code",
   "execution_count": 3,
   "metadata": {},
   "outputs": [],
   "source": [
    "rows = random.sample(df.index, int(len(df)*.80))\n",
    "X = df[['OverallQual', 'GrLivArea', 'GarageCars', 'TotalBsmtSF', 'FullBath', 'YearBuilt']]\n",
    "y = df.SalePrice\n"
   ]
  },
  {
   "cell_type": "code",
   "execution_count": 4,
   "metadata": {},
   "outputs": [
    {
     "name": "stdout",
     "output_type": "stream",
     "text": [
      "(1168, 6) (1168,)\n",
      "(292, 6) (292,)\n"
     ]
    }
   ],
   "source": [
    "X_train, X_test, y_train, y_test = train_test_split(X, y, test_size=0.2)\n",
    "print X_train.shape, y_train.shape\n",
    "print X_test.shape, y_test.shape"
   ]
  },
  {
   "cell_type": "markdown",
   "metadata": {},
   "source": [
    "## Random Forest Regressor"
   ]
  },
  {
   "cell_type": "code",
   "execution_count": 5,
   "metadata": {},
   "outputs": [
    {
     "name": "stdout",
     "output_type": "stream",
     "text": [
      "24062.131689497717\n"
     ]
    }
   ],
   "source": [
    "forest_model = RandomForestRegressor()\n",
    "forest_model.fit(X_train, y_train)\n",
    "melb_preds = forest_model.predict(X_test)\n",
    "h = mean_absolute_error(y_test, melb_preds)\n",
    "# print(melb_preds)\n",
    "print(h)"
   ]
  },
  {
   "cell_type": "code",
   "execution_count": 6,
   "metadata": {},
   "outputs": [
    {
     "name": "stdout",
     "output_type": "stream",
     "text": [
      "86.70021410643736\n"
     ]
    }
   ],
   "source": [
    "acc = h/y.mean()\n",
    "z = 100-100*acc\n",
    "print(z)"
   ]
  },
  {
   "cell_type": "markdown",
   "metadata": {},
   "source": [
    "## Gradient boost Regression"
   ]
  },
  {
   "cell_type": "code",
   "execution_count": 7,
   "metadata": {},
   "outputs": [
    {
     "data": {
      "text/plain": [
       "0.7578476863580805"
      ]
     },
     "execution_count": 7,
     "metadata": {},
     "output_type": "execute_result"
    }
   ],
   "source": [
    "clf = ensemble.GradientBoostingRegressor(n_estimators=400, max_depth=5)\n",
    "clf.fit(X_train, y_train)\n",
    "clf.score(X_test, y_test)"
   ]
  },
  {
   "cell_type": "code",
   "execution_count": 8,
   "metadata": {},
   "outputs": [
    {
     "name": "stdout",
     "output_type": "stream",
     "text": [
      "24062.131689497717\n"
     ]
    }
   ],
   "source": [
    "model = GradientBoostingRegressor(n_estimators=400, max_depth=5)\n",
    "model.fit(X_train, y_train)\n",
    "predict = forest_model.predict(X_test)\n",
    "h = mean_absolute_error(y_test, predict)\n",
    "# print(predict)\n",
    "print(h)"
   ]
  },
  {
   "cell_type": "markdown",
   "metadata": {},
   "source": [
    "## Linear Regression"
   ]
  },
  {
   "cell_type": "code",
   "execution_count": 9,
   "metadata": {},
   "outputs": [
    {
     "name": "stdout",
     "output_type": "stream",
     "text": [
      "24062.131689497717\n"
     ]
    },
    {
     "data": {
      "text/plain": [
       "0.6727669117820336"
      ]
     },
     "execution_count": 9,
     "metadata": {},
     "output_type": "execute_result"
    }
   ],
   "source": [
    "reg = LinearRegression()\n",
    "reg.fit(X_train, y_train)\n",
    "predict = forest_model.predict(X_test)\n",
    "h = mean_absolute_error(y_test, predict)\n",
    "# print(predict)\n",
    "print(h)\n",
    "reg.score(X_test, y_test)"
   ]
  },
  {
   "cell_type": "code",
   "execution_count": 10,
   "metadata": {},
   "outputs": [
    {
     "name": "stdout",
     "output_type": "stream",
     "text": [
      "86.70021410643736\n"
     ]
    }
   ],
   "source": [
    "acc = h/y.mean()\n",
    "z = 100-100*acc\n",
    "print(z)"
   ]
  },
  {
   "cell_type": "code",
   "execution_count": 15,
   "metadata": {},
   "outputs": [
    {
     "name": "stdout",
     "output_type": "stream",
     "text": [
      "[122138.73572148 140150.88315676 158763.83654448 ... 159639.83407449\n",
      " 123775.76249128 224788.65426263]\n",
      "[120710.         136100.         153125.96666667 ... 161400.\n",
      " 107850.         249979.        ]\n",
      "[121424.36786074 138125.44157838 155944.90160557 ... 160519.91703724\n",
      " 115812.88124564 237383.82713131]\n"
     ]
    }
   ],
   "source": [
    "data = pd.read_csv(\"test.csv\")\n",
    "data.head()\n",
    "df = data.dropna(thresh=len(data)-10,axis=1)\n",
    "df.dropna(axis=0)\n",
    "\n",
    "var = df.isnull().any()\n",
    "df = df.fillna(method='ffill')\n",
    "# print(var)\n",
    "\n",
    "var = df.isnull().any()\n",
    "# print(var)\n",
    "#print(df)\n",
    "df = df.fillna(df.median())\n",
    "X = df[['OverallQual', 'GrLivArea', 'GarageCars', 'TotalBsmtSF', 'FullBath', 'YearBuilt']]\n",
    "predict_f = forest_model.predict(X)\n",
    "predict_b = model.predict(X)\n",
    "print(predict_b)\n",
    "print(predict_f)\n",
    "predict_avg= (predict_b + predict_f)/2.0\n",
    "print(predict_avg)"
   ]
  },
  {
   "cell_type": "code",
   "execution_count": 16,
   "metadata": {},
   "outputs": [],
   "source": [
    "my_submission = pd.DataFrame({'Id': data.Id, 'SalePrice': predict_avg})\n",
    "# you could use any filename. We choose submission here\n",
    "my_submission.to_csv('submission.csv', index=False)"
   ]
  },
  {
   "cell_type": "code",
   "execution_count": null,
   "metadata": {},
   "outputs": [],
   "source": []
  }
 ],
 "metadata": {
  "kernelspec": {
   "display_name": "Python 2",
   "language": "python",
   "name": "python2"
  },
  "language_info": {
   "codemirror_mode": {
    "name": "ipython",
    "version": 2
   },
   "file_extension": ".py",
   "mimetype": "text/x-python",
   "name": "python",
   "nbconvert_exporter": "python",
   "pygments_lexer": "ipython2",
   "version": "2.7.14"
  }
 },
 "nbformat": 4,
 "nbformat_minor": 2
}
