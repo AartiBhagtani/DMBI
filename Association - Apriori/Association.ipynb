{
 "cells": [
  {
   "cell_type": "markdown",
   "metadata": {},
   "source": [
    "# Apriori Association"
   ]
  },
  {
   "cell_type": "code",
   "execution_count": 1,
   "metadata": {},
   "outputs": [],
   "source": [
    "import numpy as np\n",
    "import pandas as pd\n",
    "import matplotlib.pyplot as plt\n",
    "from itertools import combinations\n",
    "from mlxtend import frequent_patterns"
   ]
  },
  {
   "cell_type": "code",
   "execution_count": 18,
   "metadata": {},
   "outputs": [],
   "source": [
    "df = pd.read_csv(\"Transactions.csv\")"
   ]
  },
  {
   "cell_type": "code",
   "execution_count": 19,
   "metadata": {
    "scrolled": true
   },
   "outputs": [
    {
     "name": "stdout",
     "output_type": "stream",
     "text": [
      "               List\n",
      "0  M, O, N, K, E, Y\n",
      "1  D, O, N, K, E, Y\n",
      "2        M, A, K, E\n",
      "3        M, U, C, Y\n",
      "4     C, O, K, I, E\n"
     ]
    }
   ],
   "source": [
    "df.head()\n",
    "\n",
    "df = df.drop(['TID'], axis=1)\n",
    "print df"
   ]
  },
  {
   "cell_type": "markdown",
   "metadata": {},
   "source": [
    "min support = , min confidence ="
   ]
  },
  {
   "cell_type": "code",
   "execution_count": null,
   "metadata": {},
   "outputs": [],
   "source": []
  },
  {
   "cell_type": "code",
   "execution_count": 27,
   "metadata": {},
   "outputs": [],
   "source": [
    "#method apriori\n",
    "def apriori(df,col,s_count):\n",
    "    df = pd.DataFrame(df[col])\n",
    "    items = df.columns\n",
    "    countDf = df.sum()\n",
    "    countDict = countDf.loc[countDf >= s_count].to_dict()\n",
    "    print countDict\n",
    "    items = list(countDict.keys())\n",
    "    return items"
   ]
  },
  {
   "cell_type": "code",
   "execution_count": 28,
   "metadata": {},
   "outputs": [
    {
     "name": "stdout",
     "output_type": "stream",
     "text": [
      "{'List': 'M, O, N, K, E, YD, O, N, K, E, YM, A, K, EM, U, C, YC, O, K, I, E'}\n"
     ]
    },
    {
     "data": {
      "text/plain": [
       "['List']"
      ]
     },
     "execution_count": 28,
     "metadata": {},
     "output_type": "execute_result"
    }
   ],
   "source": [
    "countDict = apriori(df, 'List', 3)\n",
    "countDict"
   ]
  },
  {
   "cell_type": "code",
   "execution_count": 22,
   "metadata": {},
   "outputs": [
    {
     "data": {
      "text/plain": [
       "Index([u'List'], dtype='object')"
      ]
     },
     "execution_count": 22,
     "metadata": {},
     "output_type": "execute_result"
    }
   ],
   "source": [
    "df.columns"
   ]
  },
  {
   "cell_type": "code",
   "execution_count": 24,
   "metadata": {},
   "outputs": [
    {
     "name": "stdout",
     "output_type": "stream",
     "text": [
      "List    M, O, N, K, E, YD, O, N, K, E, YM, A, K, EM, U...\n",
      "dtype: object\n"
     ]
    }
   ],
   "source": [
    "print df.sum()\n"
   ]
  },
  {
   "cell_type": "code",
   "execution_count": null,
   "metadata": {},
   "outputs": [],
   "source": []
  }
 ],
 "metadata": {
  "kernelspec": {
   "display_name": "Python 2",
   "language": "python",
   "name": "python2"
  },
  "language_info": {
   "codemirror_mode": {
    "name": "ipython",
    "version": 2
   },
   "file_extension": ".py",
   "mimetype": "text/x-python",
   "name": "python",
   "nbconvert_exporter": "python",
   "pygments_lexer": "ipython2",
   "version": "2.7.14"
  }
 },
 "nbformat": 4,
 "nbformat_minor": 2
}
