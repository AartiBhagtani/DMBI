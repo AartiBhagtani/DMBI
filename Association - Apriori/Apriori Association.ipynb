{
 "cells": [
  {
   "cell_type": "markdown",
   "metadata": {},
   "source": [
    "# Apriori Association"
   ]
  },
  {
   "cell_type": "code",
   "execution_count": 1,
   "metadata": {},
   "outputs": [],
   "source": [
    "import numpy as np\n",
    "import pandas as pd\n",
    "import matplotlib.pyplot as plt\n",
    "from itertools import combinations\n",
    "from mlxtend import frequent_patterns\n",
    "\n",
    "%matplotlib inline"
   ]
  },
  {
   "cell_type": "code",
   "execution_count": 65,
   "metadata": {},
   "outputs": [
    {
     "data": {
      "text/html": [
       "<div>\n",
       "<style scoped>\n",
       "    .dataframe tbody tr th:only-of-type {\n",
       "        vertical-align: middle;\n",
       "    }\n",
       "\n",
       "    .dataframe tbody tr th {\n",
       "        vertical-align: top;\n",
       "    }\n",
       "\n",
       "    .dataframe thead th {\n",
       "        text-align: right;\n",
       "    }\n",
       "</style>\n",
       "<table border=\"1\" class=\"dataframe\">\n",
       "  <thead>\n",
       "    <tr style=\"text-align: right;\">\n",
       "      <th></th>\n",
       "      <th>TID</th>\n",
       "      <th>List</th>\n",
       "    </tr>\n",
       "  </thead>\n",
       "  <tbody>\n",
       "    <tr>\n",
       "      <th>0</th>\n",
       "      <td>T100</td>\n",
       "      <td>M, O, N, K, E, Y</td>\n",
       "    </tr>\n",
       "    <tr>\n",
       "      <th>1</th>\n",
       "      <td>T200</td>\n",
       "      <td>D, O, N, K, E, Y</td>\n",
       "    </tr>\n",
       "    <tr>\n",
       "      <th>2</th>\n",
       "      <td>T300</td>\n",
       "      <td>M, A, K, E</td>\n",
       "    </tr>\n",
       "    <tr>\n",
       "      <th>3</th>\n",
       "      <td>T400</td>\n",
       "      <td>M, U, C, Y</td>\n",
       "    </tr>\n",
       "    <tr>\n",
       "      <th>4</th>\n",
       "      <td>T500</td>\n",
       "      <td>C, O, K, I, E</td>\n",
       "    </tr>\n",
       "  </tbody>\n",
       "</table>\n",
       "</div>"
      ],
      "text/plain": [
       "    TID              List\n",
       "0  T100  M, O, N, K, E, Y\n",
       "1  T200  D, O, N, K, E, Y\n",
       "2  T300        M, A, K, E\n",
       "3  T400        M, U, C, Y\n",
       "4  T500     C, O, K, I, E"
      ]
     },
     "execution_count": 65,
     "metadata": {},
     "output_type": "execute_result"
    }
   ],
   "source": [
    "df = pd.read_csv(\"Transactions.csv\")\n",
    "df"
   ]
  },
  {
   "cell_type": "code",
   "execution_count": 3,
   "metadata": {
    "scrolled": true
   },
   "outputs": [
    {
     "name": "stdout",
     "output_type": "stream",
     "text": [
      "               List\n",
      "0  M, O, N, K, E, Y\n",
      "1  D, O, N, K, E, Y\n",
      "2        M, A, K, E\n",
      "3        M, U, C, Y\n",
      "4     C, O, K, I, E\n"
     ]
    }
   ],
   "source": [
    "df.head()\n",
    "\n",
    "df = df.drop(['TID'], axis=1)\n",
    "print df"
   ]
  },
  {
   "cell_type": "markdown",
   "metadata": {},
   "source": [
    "## With code"
   ]
  },
  {
   "cell_type": "code",
   "execution_count": 6,
   "metadata": {},
   "outputs": [],
   "source": [
    "def convertToOnehot(df, col):\n",
    "#     convert a single column like list here into separate columns \n",
    "    return df.join(df[col].str.get_dummies(\", \")).drop([\"List\"], axis=1)"
   ]
  },
  {
   "cell_type": "code",
   "execution_count": 7,
   "metadata": {},
   "outputs": [],
   "source": [
    "def combineCols(df, col1, col2):\n",
    "    return (df[col1] & df[col2])"
   ]
  },
  {
   "cell_type": "code",
   "execution_count": 8,
   "metadata": {},
   "outputs": [],
   "source": [
    "def checkForCombinations(combList, combTuple, r):\n",
    "    isPresent = True\n",
    "    for comb in combinations(combTuple, r):\n",
    "        if comb not in combList:\n",
    "            isPresent = False\n",
    "            break\n",
    "    return isPresent"
   ]
  },
  {
   "cell_type": "code",
   "execution_count": 9,
   "metadata": {},
   "outputs": [],
   "source": [
    "def getCount(df, col):\n",
    "    return len(df.loc[df[col] == 1])"
   ]
  },
  {
   "cell_type": "code",
   "execution_count": 10,
   "metadata": {},
   "outputs": [
    {
     "data": {
      "text/plain": [
       "List    M, O, N, K, E, YD, O, N, K, E, YM, A, K, EM, U...\n",
       "dtype: object"
      ]
     },
     "execution_count": 10,
     "metadata": {},
     "output_type": "execute_result"
    }
   ],
   "source": [
    "df.sum()"
   ]
  },
  {
   "cell_type": "code",
   "execution_count": 11,
   "metadata": {},
   "outputs": [
    {
     "data": {
      "text/html": [
       "<div>\n",
       "<style scoped>\n",
       "    .dataframe tbody tr th:only-of-type {\n",
       "        vertical-align: middle;\n",
       "    }\n",
       "\n",
       "    .dataframe tbody tr th {\n",
       "        vertical-align: top;\n",
       "    }\n",
       "\n",
       "    .dataframe thead th {\n",
       "        text-align: right;\n",
       "    }\n",
       "</style>\n",
       "<table border=\"1\" class=\"dataframe\">\n",
       "  <thead>\n",
       "    <tr style=\"text-align: right;\">\n",
       "      <th></th>\n",
       "      <th>List</th>\n",
       "    </tr>\n",
       "  </thead>\n",
       "  <tbody>\n",
       "    <tr>\n",
       "      <th>0</th>\n",
       "      <td>M, O, N, K, E, Y</td>\n",
       "    </tr>\n",
       "    <tr>\n",
       "      <th>1</th>\n",
       "      <td>D, O, N, K, E, Y</td>\n",
       "    </tr>\n",
       "    <tr>\n",
       "      <th>2</th>\n",
       "      <td>M, A, K, E</td>\n",
       "    </tr>\n",
       "    <tr>\n",
       "      <th>3</th>\n",
       "      <td>M, U, C, Y</td>\n",
       "    </tr>\n",
       "    <tr>\n",
       "      <th>4</th>\n",
       "      <td>C, O, K, I, E</td>\n",
       "    </tr>\n",
       "  </tbody>\n",
       "</table>\n",
       "</div>"
      ],
      "text/plain": [
       "               List\n",
       "0  M, O, N, K, E, Y\n",
       "1  D, O, N, K, E, Y\n",
       "2        M, A, K, E\n",
       "3        M, U, C, Y\n",
       "4     C, O, K, I, E"
      ]
     },
     "execution_count": 11,
     "metadata": {},
     "output_type": "execute_result"
    }
   ],
   "source": [
    "df"
   ]
  },
  {
   "cell_type": "markdown",
   "metadata": {},
   "source": [
    "def apriori(df, col, s_count):\n",
    "    #not required\n",
    "    #df = pd.DataFrame(df[col])\n",
    "    \n",
    "    # items hold - column list\n",
    "    items = df.columns\n",
    "    # countdf = count support \n",
    "    countDf = df.sum()\n",
    "    # filter min support and store it as dictionary\n",
    "    countDict = countDf.loc[countDf >= s_count].to_dict()\n",
    "    print(countDict)\n",
    "    # items contains all keys\n",
    "    items = list(countDict.keys())\n",
    "    combHist = []\n",
    "    # combPrev contain previous combinations \n",
    "    combPrev = list(combinations(items, 1))\n",
    "    combNext = []\n",
    "    "
   ]
  },
  {
   "cell_type": "code",
   "execution_count": 58,
   "metadata": {},
   "outputs": [],
   "source": [
    "def apriori(df, col, s_count):\n",
    "    df = pd.DataFrame(df[col])\n",
    "    df = convertToOnehot(df, col)\n",
    "    items = df.columns\n",
    "    countDf = df.sum()\n",
    "    countDict = countDf.loc[countDf >= s_count].to_dict()\n",
    "    print(countDict)\n",
    "    items = list(countDict.keys())\n",
    "    combHist = []\n",
    "    combPrev = list(combinations(items, 1))\n",
    "    combNext = []\n",
    "    for i in range(2, len(items) - 1):\n",
    "        for comb in combinations(items, i):\n",
    "            if checkForCombinations(combPrev, comb, (i-1)):\n",
    "                combProp = \"_\".join(str(c) for c in comb)\n",
    "                col1 = \"_\".join(str(c) for c in comb[:-1])\n",
    "                col2 = str(comb[-1])\n",
    "                df[combProp] = combineCols(df, col1, col2)\n",
    "                countTemp = getCount(df, combProp)\n",
    "                if countTemp >= s_count:\n",
    "                    combNext.append(comb)\n",
    "                    countDict[combProp] = getCount(df, combProp)\n",
    "                    #print(countDict)\n",
    "        combHist.append(combPrev)\n",
    "        combPrev = combNext\n",
    "        print(combPrev)\n",
    "    return countDict"
   ]
  },
  {
   "cell_type": "code",
   "execution_count": 89,
   "metadata": {},
   "outputs": [
    {
     "name": "stdout",
     "output_type": "stream",
     "text": [
      "{'Y': 3L, 'M': 3L, 'K': 4L, 'E': 4L, 'O': 3L}\n",
      "[('K', 'E'), ('K', 'O'), ('E', 'O')]\n",
      "[('K', 'E'), ('K', 'O'), ('E', 'O'), ('K', 'E', 'O')]\n"
     ]
    }
   ],
   "source": [
    "countDict = apriori(df, 'List', 3)"
   ]
  },
  {
   "cell_type": "markdown",
   "metadata": {},
   "source": [
    "## Using Built in function "
   ]
  },
  {
   "cell_type": "code",
   "execution_count": 90,
   "metadata": {},
   "outputs": [],
   "source": [
    "oneHotDf = convertToOnehot(df, 'List')\n",
    "cols = ['M', 'O', 'N', 'K', 'E','Y','A','C','D','I','U']\n",
    "oneHotDf[cols] = oneHotDf[cols].astype('bool')"
   ]
  },
  {
   "cell_type": "code",
   "execution_count": 91,
   "metadata": {},
   "outputs": [
    {
     "data": {
      "text/html": [
       "<div>\n",
       "<style scoped>\n",
       "    .dataframe tbody tr th:only-of-type {\n",
       "        vertical-align: middle;\n",
       "    }\n",
       "\n",
       "    .dataframe tbody tr th {\n",
       "        vertical-align: top;\n",
       "    }\n",
       "\n",
       "    .dataframe thead th {\n",
       "        text-align: right;\n",
       "    }\n",
       "</style>\n",
       "<table border=\"1\" class=\"dataframe\">\n",
       "  <thead>\n",
       "    <tr style=\"text-align: right;\">\n",
       "      <th></th>\n",
       "      <th>A</th>\n",
       "      <th>C</th>\n",
       "      <th>D</th>\n",
       "      <th>E</th>\n",
       "      <th>I</th>\n",
       "      <th>K</th>\n",
       "      <th>M</th>\n",
       "      <th>N</th>\n",
       "      <th>O</th>\n",
       "      <th>U</th>\n",
       "      <th>Y</th>\n",
       "    </tr>\n",
       "  </thead>\n",
       "  <tbody>\n",
       "    <tr>\n",
       "      <th>0</th>\n",
       "      <td>False</td>\n",
       "      <td>False</td>\n",
       "      <td>False</td>\n",
       "      <td>True</td>\n",
       "      <td>False</td>\n",
       "      <td>True</td>\n",
       "      <td>True</td>\n",
       "      <td>True</td>\n",
       "      <td>True</td>\n",
       "      <td>False</td>\n",
       "      <td>True</td>\n",
       "    </tr>\n",
       "    <tr>\n",
       "      <th>1</th>\n",
       "      <td>False</td>\n",
       "      <td>False</td>\n",
       "      <td>True</td>\n",
       "      <td>True</td>\n",
       "      <td>False</td>\n",
       "      <td>True</td>\n",
       "      <td>False</td>\n",
       "      <td>True</td>\n",
       "      <td>True</td>\n",
       "      <td>False</td>\n",
       "      <td>True</td>\n",
       "    </tr>\n",
       "    <tr>\n",
       "      <th>2</th>\n",
       "      <td>True</td>\n",
       "      <td>False</td>\n",
       "      <td>False</td>\n",
       "      <td>True</td>\n",
       "      <td>False</td>\n",
       "      <td>True</td>\n",
       "      <td>True</td>\n",
       "      <td>False</td>\n",
       "      <td>False</td>\n",
       "      <td>False</td>\n",
       "      <td>False</td>\n",
       "    </tr>\n",
       "    <tr>\n",
       "      <th>3</th>\n",
       "      <td>False</td>\n",
       "      <td>True</td>\n",
       "      <td>False</td>\n",
       "      <td>False</td>\n",
       "      <td>False</td>\n",
       "      <td>False</td>\n",
       "      <td>True</td>\n",
       "      <td>False</td>\n",
       "      <td>False</td>\n",
       "      <td>True</td>\n",
       "      <td>True</td>\n",
       "    </tr>\n",
       "    <tr>\n",
       "      <th>4</th>\n",
       "      <td>False</td>\n",
       "      <td>True</td>\n",
       "      <td>False</td>\n",
       "      <td>True</td>\n",
       "      <td>True</td>\n",
       "      <td>True</td>\n",
       "      <td>False</td>\n",
       "      <td>False</td>\n",
       "      <td>True</td>\n",
       "      <td>False</td>\n",
       "      <td>False</td>\n",
       "    </tr>\n",
       "  </tbody>\n",
       "</table>\n",
       "</div>"
      ],
      "text/plain": [
       "       A      C      D      E      I      K      M      N      O      U      Y\n",
       "0  False  False  False   True  False   True   True   True   True  False   True\n",
       "1  False  False   True   True  False   True  False   True   True  False   True\n",
       "2   True  False  False   True  False   True   True  False  False  False  False\n",
       "3  False   True  False  False  False  False   True  False  False   True   True\n",
       "4  False   True  False   True   True   True  False  False   True  False  False"
      ]
     },
     "execution_count": 91,
     "metadata": {},
     "output_type": "execute_result"
    }
   ],
   "source": [
    "oneHotDf = oneHotDf.drop(['TID'], axis=1)\n",
    "oneHotDf"
   ]
  },
  {
   "cell_type": "code",
   "execution_count": 92,
   "metadata": {},
   "outputs": [],
   "source": [
    "freq_itemsets = frequent_patterns.apriori(oneHotDf, min_support=0.20, use_colnames=True)"
   ]
  },
  {
   "cell_type": "code",
   "execution_count": 103,
   "metadata": {},
   "outputs": [
    {
     "data": {
      "text/html": [
       "<div>\n",
       "<style scoped>\n",
       "    .dataframe tbody tr th:only-of-type {\n",
       "        vertical-align: middle;\n",
       "    }\n",
       "\n",
       "    .dataframe tbody tr th {\n",
       "        vertical-align: top;\n",
       "    }\n",
       "\n",
       "    .dataframe thead th {\n",
       "        text-align: right;\n",
       "    }\n",
       "</style>\n",
       "<table border=\"1\" class=\"dataframe\">\n",
       "  <thead>\n",
       "    <tr style=\"text-align: right;\">\n",
       "      <th></th>\n",
       "      <th>antecedants</th>\n",
       "      <th>consequents</th>\n",
       "      <th>antecedent support</th>\n",
       "      <th>consequent support</th>\n",
       "      <th>support</th>\n",
       "      <th>confidence</th>\n",
       "      <th>lift</th>\n",
       "      <th>leverage</th>\n",
       "      <th>conviction</th>\n",
       "    </tr>\n",
       "  </thead>\n",
       "  <tbody>\n",
       "    <tr>\n",
       "      <th>0</th>\n",
       "      <td>(O)</td>\n",
       "      <td>(E)</td>\n",
       "      <td>0.6</td>\n",
       "      <td>0.8</td>\n",
       "      <td>0.6</td>\n",
       "      <td>1.0</td>\n",
       "      <td>1.25</td>\n",
       "      <td>0.12</td>\n",
       "      <td>inf</td>\n",
       "    </tr>\n",
       "    <tr>\n",
       "      <th>172</th>\n",
       "      <td>(K)</td>\n",
       "      <td>(E)</td>\n",
       "      <td>0.8</td>\n",
       "      <td>0.8</td>\n",
       "      <td>0.8</td>\n",
       "      <td>1.0</td>\n",
       "      <td>1.25</td>\n",
       "      <td>0.16</td>\n",
       "      <td>inf</td>\n",
       "    </tr>\n",
       "    <tr>\n",
       "      <th>173</th>\n",
       "      <td>(E)</td>\n",
       "      <td>(K)</td>\n",
       "      <td>0.8</td>\n",
       "      <td>0.8</td>\n",
       "      <td>0.8</td>\n",
       "      <td>1.0</td>\n",
       "      <td>1.25</td>\n",
       "      <td>0.16</td>\n",
       "      <td>inf</td>\n",
       "    </tr>\n",
       "    <tr>\n",
       "      <th>241</th>\n",
       "      <td>(K, O)</td>\n",
       "      <td>(E)</td>\n",
       "      <td>0.6</td>\n",
       "      <td>0.8</td>\n",
       "      <td>0.6</td>\n",
       "      <td>1.0</td>\n",
       "      <td>1.25</td>\n",
       "      <td>0.12</td>\n",
       "      <td>inf</td>\n",
       "    </tr>\n",
       "    <tr>\n",
       "      <th>242</th>\n",
       "      <td>(E, O)</td>\n",
       "      <td>(K)</td>\n",
       "      <td>0.6</td>\n",
       "      <td>0.8</td>\n",
       "      <td>0.6</td>\n",
       "      <td>1.0</td>\n",
       "      <td>1.25</td>\n",
       "      <td>0.12</td>\n",
       "      <td>inf</td>\n",
       "    </tr>\n",
       "    <tr>\n",
       "      <th>243</th>\n",
       "      <td>(O)</td>\n",
       "      <td>(K, E)</td>\n",
       "      <td>0.6</td>\n",
       "      <td>0.8</td>\n",
       "      <td>0.6</td>\n",
       "      <td>1.0</td>\n",
       "      <td>1.25</td>\n",
       "      <td>0.12</td>\n",
       "      <td>inf</td>\n",
       "    </tr>\n",
       "    <tr>\n",
       "      <th>552</th>\n",
       "      <td>(O)</td>\n",
       "      <td>(K)</td>\n",
       "      <td>0.6</td>\n",
       "      <td>0.8</td>\n",
       "      <td>0.6</td>\n",
       "      <td>1.0</td>\n",
       "      <td>1.25</td>\n",
       "      <td>0.12</td>\n",
       "      <td>inf</td>\n",
       "    </tr>\n",
       "  </tbody>\n",
       "</table>\n",
       "</div>"
      ],
      "text/plain": [
       "    antecedants consequents  antecedent support  consequent support  support  \\\n",
       "0           (O)         (E)                 0.6                 0.8      0.6   \n",
       "172         (K)         (E)                 0.8                 0.8      0.8   \n",
       "173         (E)         (K)                 0.8                 0.8      0.8   \n",
       "241      (K, O)         (E)                 0.6                 0.8      0.6   \n",
       "242      (E, O)         (K)                 0.6                 0.8      0.6   \n",
       "243         (O)      (K, E)                 0.6                 0.8      0.6   \n",
       "552         (O)         (K)                 0.6                 0.8      0.6   \n",
       "\n",
       "     confidence  lift  leverage  conviction  \n",
       "0           1.0  1.25      0.12         inf  \n",
       "172         1.0  1.25      0.16         inf  \n",
       "173         1.0  1.25      0.16         inf  \n",
       "241         1.0  1.25      0.12         inf  \n",
       "242         1.0  1.25      0.12         inf  \n",
       "243         1.0  1.25      0.12         inf  \n",
       "552         1.0  1.25      0.12         inf  "
      ]
     },
     "execution_count": 103,
     "metadata": {},
     "output_type": "execute_result"
    }
   ],
   "source": [
    "minConfidence = 0.8\n",
    "rules = frequent_patterns.association_rules(freq_itemsets, metric=\"confidence\", min_threshold=1)\n",
    "rules[rules.support > 0.5]"
   ]
  },
  {
   "cell_type": "code",
   "execution_count": null,
   "metadata": {},
   "outputs": [],
   "source": []
  }
 ],
 "metadata": {
  "kernelspec": {
   "display_name": "Python 2",
   "language": "python",
   "name": "python2"
  },
  "language_info": {
   "codemirror_mode": {
    "name": "ipython",
    "version": 2
   },
   "file_extension": ".py",
   "mimetype": "text/x-python",
   "name": "python",
   "nbconvert_exporter": "python",
   "pygments_lexer": "ipython2",
   "version": "2.7.14"
  }
 },
 "nbformat": 4,
 "nbformat_minor": 2
}
