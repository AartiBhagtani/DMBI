{
 "cells": [
  {
   "cell_type": "code",
   "execution_count": 19,
   "metadata": {},
   "outputs": [],
   "source": [
    "import numpy as np\n",
    "import pandas as pd\n",
    "import random\n",
    "from sklearn.datasets import make_hastie_10_2\n",
    "from sklearn.ensemble import GradientBoostingClassifier\n",
    "from sklearn.metrics import mean_squared_error,r2_score\n",
    "from sklearn.ensemble import GradientBoostingRegressor\n",
    "%matplotlib inline\n",
    "\n",
    "import pandas as pd\n",
    "import numpy as np\n",
    "from IPython.display import display\n",
    "from fastai.imports import *\n",
    "from sklearn import metrics"
   ]
  },
  {
   "cell_type": "code",
   "execution_count": 4,
   "metadata": {},
   "outputs": [
    {
     "data": {
      "text/plain": [
       "array([ 0,  2,  4,  6,  8, 10, 12, 14, 16, 18, 20, 22, 24, 26, 28, 30, 32,\n",
       "       34, 36, 38, 40, 42, 44, 46, 48])"
      ]
     },
     "execution_count": 4,
     "metadata": {},
     "output_type": "execute_result"
    }
   ],
   "source": [
    "x = np.arange(0,50,2)"
   ]
  },
  {
   "cell_type": "code",
   "execution_count": 5,
   "metadata": {},
   "outputs": [],
   "source": [
    "x = pd.DataFrame({'x':x})"
   ]
  },
  {
   "cell_type": "code",
   "execution_count": 7,
   "metadata": {},
   "outputs": [
    {
     "name": "stdout",
     "output_type": "stream",
     "text": [
      "     x\n",
      "0    0\n",
      "1    2\n",
      "2    4\n",
      "3    6\n",
      "4    8\n",
      "5   10\n",
      "6   12\n",
      "7   14\n",
      "8   16\n",
      "9   18\n",
      "10  20\n",
      "11  22\n",
      "12  24\n",
      "13  26\n",
      "14  28\n",
      "15  30\n",
      "16  32\n",
      "17  34\n",
      "18  36\n",
      "19  38\n",
      "20  40\n",
      "21  42\n",
      "22  44\n",
      "23  46\n",
      "24  48\n"
     ]
    }
   ],
   "source": [
    "print(x)"
   ]
  },
  {
   "cell_type": "code",
   "execution_count": 10,
   "metadata": {},
   "outputs": [],
   "source": [
    "y1 = np.random.uniform(10,15,10)\n",
    "y2 = np.random.uniform(20,25,10)\n",
    "y3 = np.random.uniform(0,5,10)\n",
    "y4 = np.random.uniform(30,32,10)\n",
    "y5 = np.random.uniform(13,17,10)"
   ]
  },
  {
   "cell_type": "code",
   "execution_count": 11,
   "metadata": {},
   "outputs": [
    {
     "name": "stdout",
     "output_type": "stream",
     "text": [
      "[12.36197199 11.83688118 11.46330416 12.30487329 13.95242602 11.02884819\n",
      " 10.59078539 10.36588322 13.8808042  13.79480642]\n"
     ]
    }
   ],
   "source": [
    "print(y1)"
   ]
  },
  {
   "cell_type": "code",
   "execution_count": 12,
   "metadata": {},
   "outputs": [],
   "source": [
    "y = np.concatenate((y1,y2,y3,y4,y5))"
   ]
  },
  {
   "cell_type": "code",
   "execution_count": 13,
   "metadata": {},
   "outputs": [
    {
     "name": "stdout",
     "output_type": "stream",
     "text": [
      "[1.23619720e+01 1.18368812e+01 1.14633042e+01 1.23048733e+01\n",
      " 1.39524260e+01 1.10288482e+01 1.05907854e+01 1.03658832e+01\n",
      " 1.38808042e+01 1.37948064e+01 2.30357515e+01 2.41344101e+01\n",
      " 2.44471165e+01 2.09820370e+01 2.12629853e+01 2.22304031e+01\n",
      " 2.18653910e+01 2.12250649e+01 2.01131213e+01 2.10541379e+01\n",
      " 2.52073129e+00 3.57161054e+00 3.39854535e+00 1.99423586e+00\n",
      " 3.96207474e+00 4.15338902e+00 3.56647718e+00 2.02734932e+00\n",
      " 3.58667471e+00 3.10320093e-03 3.01372188e+01 3.16811875e+01\n",
      " 3.05470948e+01 3.07024151e+01 3.03136895e+01 3.13299523e+01\n",
      " 3.12624714e+01 3.03484552e+01 3.07600749e+01 3.01161951e+01\n",
      " 1.37274698e+01 1.54992650e+01 1.43706374e+01 1.46453165e+01\n",
      " 1.69883631e+01 1.61546753e+01 1.32971198e+01 1.68164065e+01\n",
      " 1.47751396e+01 1.39330261e+01]\n"
     ]
    }
   ],
   "source": [
    "print(y)"
   ]
  },
  {
   "cell_type": "code",
   "execution_count": 14,
   "metadata": {},
   "outputs": [],
   "source": [
    "y = y[:,None]"
   ]
  },
  {
   "cell_type": "code",
   "execution_count": 15,
   "metadata": {},
   "outputs": [
    {
     "name": "stdout",
     "output_type": "stream",
     "text": [
      "[[1.23619720e+01]\n",
      " [1.18368812e+01]\n",
      " [1.14633042e+01]\n",
      " [1.23048733e+01]\n",
      " [1.39524260e+01]\n",
      " [1.10288482e+01]\n",
      " [1.05907854e+01]\n",
      " [1.03658832e+01]\n",
      " [1.38808042e+01]\n",
      " [1.37948064e+01]\n",
      " [2.30357515e+01]\n",
      " [2.41344101e+01]\n",
      " [2.44471165e+01]\n",
      " [2.09820370e+01]\n",
      " [2.12629853e+01]\n",
      " [2.22304031e+01]\n",
      " [2.18653910e+01]\n",
      " [2.12250649e+01]\n",
      " [2.01131213e+01]\n",
      " [2.10541379e+01]\n",
      " [2.52073129e+00]\n",
      " [3.57161054e+00]\n",
      " [3.39854535e+00]\n",
      " [1.99423586e+00]\n",
      " [3.96207474e+00]\n",
      " [4.15338902e+00]\n",
      " [3.56647718e+00]\n",
      " [2.02734932e+00]\n",
      " [3.58667471e+00]\n",
      " [3.10320093e-03]\n",
      " [3.01372188e+01]\n",
      " [3.16811875e+01]\n",
      " [3.05470948e+01]\n",
      " [3.07024151e+01]\n",
      " [3.03136895e+01]\n",
      " [3.13299523e+01]\n",
      " [3.12624714e+01]\n",
      " [3.03484552e+01]\n",
      " [3.07600749e+01]\n",
      " [3.01161951e+01]\n",
      " [1.37274698e+01]\n",
      " [1.54992650e+01]\n",
      " [1.43706374e+01]\n",
      " [1.46453165e+01]\n",
      " [1.69883631e+01]\n",
      " [1.61546753e+01]\n",
      " [1.32971198e+01]\n",
      " [1.68164065e+01]\n",
      " [1.47751396e+01]\n",
      " [1.39330261e+01]]\n"
     ]
    }
   ],
   "source": [
    "print(y)"
   ]
  },
  {
   "cell_type": "code",
   "execution_count": 16,
   "metadata": {},
   "outputs": [
    {
     "data": {
      "text/plain": [
       "((25, 1), (50, 1))"
      ]
     },
     "execution_count": 16,
     "metadata": {},
     "output_type": "execute_result"
    }
   ],
   "source": [
    "x.shape, y.shape"
   ]
  },
  {
   "cell_type": "code",
   "execution_count": 20,
   "metadata": {},
   "outputs": [
    {
     "ename": "NameError",
     "evalue": "name 'plt' is not defined",
     "output_type": "error",
     "traceback": [
      "\u001b[1;31m---------------------------------------------------------------------------\u001b[0m",
      "\u001b[1;31mNameError\u001b[0m                                 Traceback (most recent call last)",
      "\u001b[1;32m<ipython-input-20-d41741eb2d7f>\u001b[0m in \u001b[0;36m<module>\u001b[1;34m()\u001b[0m\n\u001b[1;32m----> 1\u001b[1;33m \u001b[0mplt\u001b[0m\u001b[1;33m.\u001b[0m\u001b[0mfigure\u001b[0m\u001b[1;33m(\u001b[0m\u001b[0mfigsize\u001b[0m\u001b[1;33m=\u001b[0m\u001b[1;33m(\u001b[0m\u001b[1;36m7\u001b[0m\u001b[1;33m,\u001b[0m\u001b[1;36m5\u001b[0m\u001b[1;33m)\u001b[0m\u001b[1;33m)\u001b[0m\u001b[1;33m\u001b[0m\u001b[0m\n\u001b[0m\u001b[0;32m      2\u001b[0m \u001b[0mplt\u001b[0m\u001b[1;33m.\u001b[0m\u001b[0mplot\u001b[0m\u001b[1;33m(\u001b[0m\u001b[0mx\u001b[0m\u001b[1;33m,\u001b[0m\u001b[0my\u001b[0m\u001b[1;33m,\u001b[0m \u001b[1;34m'o'\u001b[0m\u001b[1;33m)\u001b[0m\u001b[1;33m\u001b[0m\u001b[0m\n\u001b[0;32m      3\u001b[0m \u001b[0mplt\u001b[0m\u001b[1;33m.\u001b[0m\u001b[0mtitle\u001b[0m\u001b[1;33m(\u001b[0m\u001b[1;34m\"Scatter plot of x vs. y\"\u001b[0m\u001b[1;33m)\u001b[0m\u001b[1;33m\u001b[0m\u001b[0m\n\u001b[0;32m      4\u001b[0m \u001b[0mplt\u001b[0m\u001b[1;33m.\u001b[0m\u001b[0mxlabel\u001b[0m\u001b[1;33m(\u001b[0m\u001b[1;34m\"x\"\u001b[0m\u001b[1;33m)\u001b[0m\u001b[1;33m\u001b[0m\u001b[0m\n\u001b[0;32m      5\u001b[0m \u001b[0mplt\u001b[0m\u001b[1;33m.\u001b[0m\u001b[0mylabel\u001b[0m\u001b[1;33m(\u001b[0m\u001b[1;34m\"y\"\u001b[0m\u001b[1;33m)\u001b[0m\u001b[1;33m\u001b[0m\u001b[0m\n",
      "\u001b[1;31mNameError\u001b[0m: name 'plt' is not defined"
     ]
    }
   ],
   "source": [
    "plt.figure(figsize=(7,5))\n",
    "plt.plot(x,y, 'o')\n",
    "plt.title(\"Scatter plot of x vs. y\")\n",
    "plt.xlabel(\"x\")\n",
    "plt.ylabel(\"y\")\n",
    "plt.show()"
   ]
  },
  {
   "cell_type": "code",
   "execution_count": null,
   "metadata": {},
   "outputs": [],
   "source": []
  },
  {
   "cell_type": "code",
   "execution_count": null,
   "metadata": {},
   "outputs": [],
   "source": []
  }
 ],
 "metadata": {
  "kernelspec": {
   "display_name": "Python 2",
   "language": "python",
   "name": "python2"
  },
  "language_info": {
   "codemirror_mode": {
    "name": "ipython",
    "version": 2
   },
   "file_extension": ".py",
   "mimetype": "text/x-python",
   "name": "python",
   "nbconvert_exporter": "python",
   "pygments_lexer": "ipython2",
   "version": "2.7.14"
  }
 },
 "nbformat": 4,
 "nbformat_minor": 2
}
